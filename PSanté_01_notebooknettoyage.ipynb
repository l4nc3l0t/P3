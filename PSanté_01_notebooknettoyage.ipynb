{
 "cells": [
  {
   "cell_type": "markdown",
   "metadata": {},
   "source": [
    "# Projet 3 : Concevez une application au service de la santé publique"
   ]
  },
  {
   "cell_type": "markdown",
   "metadata": {},
   "source": [
    "## Partie 1 : nettoyage du jeux de données"
   ]
  },
  {
   "cell_type": "code",
   "execution_count": 1,
   "metadata": {},
   "outputs": [],
   "source": [
    "import pandas as pd\n",
    "import numpy as np\n",
    "import plotly.express as px\n",
    "from plotly.subplots import make_subplots\n",
    "import plotly.graph_objects as go\n",
    "\n",
    "write_data = False"
   ]
  },
  {
   "cell_type": "code",
   "execution_count": 2,
   "metadata": {},
   "outputs": [],
   "source": [
    "# si besoin importer le fichier\n",
    "# import os.path\n",
    "# import wget\n",
    "# if os.path.exists('en.openfoodfacts.org.products.csv'):\n",
    "#    print(\"Le jeu de données est déjà présent dans le répertoire\")\n",
    "# else:  \n",
    "#    wget.download(\"https://static.openfoodfacts.org/data/en.openfoodfacts.org.products.csv\", out='.')"
   ]
  },
  {
   "cell_type": "markdown",
   "metadata": {},
   "source": [
    "### Ouverture du fichier .csv"
   ]
  },
  {
   "cell_type": "code",
   "execution_count": 3,
   "metadata": {},
   "outputs": [],
   "source": [
    "# ouverture du fichire csv\n",
    "# utilise le fichier dans le répertoire si il existe \n",
    "# sinon récupération avec l'url\n",
    "if os.path.exists('en.openfoodfacts.org.products.csv'):\n",
    "    OpenFoodData = pd.read_csv(\n",
    "        'en.openfoodfacts.org.products.csv',\n",
    "        sep='\\t',  # séparateurs = tabulations\n",
    "        low_memory=False)\n",
    "else:\n",
    "    OpenFoodData = pd.read_csv(\n",
    "        \"https://static.openfoodfacts.org/data/en.openfoodfacts.org.products.csv\",\n",
    "        sep='\\t',  # séparateurs = tabulations\n",
    "        low_memory=False)\n"
   ]
  },
  {
   "cell_type": "markdown",
   "metadata": {},
   "source": [
    "Afin de réduire l'usage de la mémoire de l'ordinateur nous allons changer le type de certaines colonnes"
   ]
  },
  {
   "cell_type": "code",
   "execution_count": 4,
   "metadata": {},
   "outputs": [],
   "source": [
    "# on retire les colonnes de NaN\n",
    "OpenFoodData.dropna(axis=1, how='all', inplace=True)\n"
   ]
  },
  {
   "cell_type": "code",
   "execution_count": 5,
   "metadata": {},
   "outputs": [],
   "source": [
    "# on réduit la taille des colonnes contenant des entiers si possible\n",
    "for x in OpenFoodData.select_dtypes(include=[int]).columns.to_list():\n",
    "    if (OpenFoodData[x].max() <= 127) & (OpenFoodData[x].min() >= -128):\n",
    "        OpenFoodData[x] = OpenFoodData[x].astype('int8')\n",
    "    elif (OpenFoodData[x].max() <= 32767) & (OpenFoodData[x].min() >= -32768):\n",
    "        OpenFoodData[x] = OpenFoodData[x].astype('int16')\n",
    "    elif (OpenFoodData[x].max() <= 2147483647) & (OpenFoodData[x].min() >=\n",
    "                                                  -2147483648):\n",
    "        OpenFoodData[x] = OpenFoodData[x].astype('int32')\n",
    "    else:\n",
    "        OpenFoodData[x] = OpenFoodData[x]\n"
   ]
  },
  {
   "cell_type": "code",
   "execution_count": 6,
   "metadata": {},
   "outputs": [],
   "source": [
    "# on réduit la taille des colonnes contenant des nombres décimaux\n",
    "OpenFoodDataNFloat = OpenFoodData.select_dtypes(exclude=[float])\n",
    "OpenFoodDataFloat = OpenFoodData.select_dtypes(include=[float]).astype('float32')\n",
    "OpenFoodData = OpenFoodDataNFloat.join(OpenFoodDataFloat)"
   ]
  },
  {
   "cell_type": "code",
   "execution_count": 7,
   "metadata": {},
   "outputs": [
    {
     "name": "stdout",
     "output_type": "stream",
     "text": [
      "        energy-kj_100g  energy_100g\n",
      "658122             inf          inf\n"
     ]
    }
   ],
   "source": [
    "# vérification des suppressions duent à la réduction \n",
    "# de la taille de nombres décimaux\n",
    "inf = OpenFoodDataFloat.where(OpenFoodDataFloat == np.inf).dropna(axis=0,\n",
    "                                                                  how='all')\n",
    "inf = inf.where(inf == np.inf).dropna(axis=1, how='all')\n",
    "print(inf)"
   ]
  },
  {
   "cell_type": "markdown",
   "metadata": {},
   "source": [
    "Une seule valeur d'énergie est perdue en réduisant la taille des nombres décimaux. On peut considérer ça comme négligeable au vu de la taille du fichier d'autant que c'était sûrement une valeur aberrante pour être aussi importante"
   ]
  },
  {
   "cell_type": "code",
   "execution_count": 8,
   "metadata": {},
   "outputs": [
    {
     "name": "stderr",
     "output_type": "stream",
     "text": [
      "/home/lancelot/PyDS/lib/python3.9/site-packages/pandas/core/frame.py:5238: SettingWithCopyWarning: \n",
      "A value is trying to be set on a copy of a slice from a DataFrame\n",
      "\n",
      "See the caveats in the documentation: https://pandas.pydata.org/pandas-docs/stable/user_guide/indexing.html#returning-a-view-versus-a-copy\n",
      "  return super().replace(\n"
     ]
    }
   ],
   "source": [
    "columns_energy = OpenFoodData.loc[:, OpenFoodData.columns.str.contains('energy')]\n",
    "columns_Nenergy = OpenFoodData.loc[:, ~OpenFoodData.columns.str.contains('energy')]\n",
    "columns_energy.replace(np.inf, np.nan, inplace=True)\n",
    "OpenFoodData = columns_Nenergy.join(columns_energy)\n"
   ]
  },
  {
   "cell_type": "code",
   "execution_count": 9,
   "metadata": {},
   "outputs": [
    {
     "data": {
      "text/html": [
       "<div>\n",
       "<style scoped>\n",
       "    .dataframe tbody tr th:only-of-type {\n",
       "        vertical-align: middle;\n",
       "    }\n",
       "\n",
       "    .dataframe tbody tr th {\n",
       "        vertical-align: top;\n",
       "    }\n",
       "\n",
       "    .dataframe thead th {\n",
       "        text-align: right;\n",
       "    }\n",
       "</style>\n",
       "<table border=\"1\" class=\"dataframe\">\n",
       "  <thead>\n",
       "    <tr style=\"text-align: right;\">\n",
       "      <th></th>\n",
       "      <th>code</th>\n",
       "      <th>url</th>\n",
       "      <th>creator</th>\n",
       "      <th>created_t</th>\n",
       "      <th>created_datetime</th>\n",
       "      <th>last_modified_t</th>\n",
       "      <th>last_modified_datetime</th>\n",
       "      <th>product_name</th>\n",
       "      <th>abbreviated_product_name</th>\n",
       "      <th>generic_name</th>\n",
       "      <th>...</th>\n",
       "      <th>water-hardness_100g</th>\n",
       "      <th>choline_100g</th>\n",
       "      <th>phylloquinone_100g</th>\n",
       "      <th>beta-glucan_100g</th>\n",
       "      <th>inositol_100g</th>\n",
       "      <th>carnitine_100g</th>\n",
       "      <th>energy-kj_100g</th>\n",
       "      <th>energy-kcal_100g</th>\n",
       "      <th>energy_100g</th>\n",
       "      <th>energy-from-fat_100g</th>\n",
       "    </tr>\n",
       "  </thead>\n",
       "  <tbody>\n",
       "    <tr>\n",
       "      <th>0</th>\n",
       "      <td>00000000000000225</td>\n",
       "      <td>http://world-en.openfoodfacts.org/product/0000...</td>\n",
       "      <td>nutrinet-sante</td>\n",
       "      <td>1623855208</td>\n",
       "      <td>2021-06-16T14:53:28Z</td>\n",
       "      <td>1623855209</td>\n",
       "      <td>2021-06-16T14:53:29Z</td>\n",
       "      <td>jeunes pousses</td>\n",
       "      <td>NaN</td>\n",
       "      <td>NaN</td>\n",
       "      <td>...</td>\n",
       "      <td>NaN</td>\n",
       "      <td>NaN</td>\n",
       "      <td>NaN</td>\n",
       "      <td>NaN</td>\n",
       "      <td>NaN</td>\n",
       "      <td>NaN</td>\n",
       "      <td>NaN</td>\n",
       "      <td>NaN</td>\n",
       "      <td>NaN</td>\n",
       "      <td>NaN</td>\n",
       "    </tr>\n",
       "    <tr>\n",
       "      <th>1</th>\n",
       "      <td>00000000000003429145</td>\n",
       "      <td>http://world-en.openfoodfacts.org/product/0000...</td>\n",
       "      <td>kiliweb</td>\n",
       "      <td>1630483911</td>\n",
       "      <td>2021-09-01T08:11:51Z</td>\n",
       "      <td>1630484064</td>\n",
       "      <td>2021-09-01T08:14:24Z</td>\n",
       "      <td>L.casei</td>\n",
       "      <td>NaN</td>\n",
       "      <td>NaN</td>\n",
       "      <td>...</td>\n",
       "      <td>NaN</td>\n",
       "      <td>NaN</td>\n",
       "      <td>NaN</td>\n",
       "      <td>NaN</td>\n",
       "      <td>NaN</td>\n",
       "      <td>NaN</td>\n",
       "      <td>NaN</td>\n",
       "      <td>NaN</td>\n",
       "      <td>NaN</td>\n",
       "      <td>NaN</td>\n",
       "    </tr>\n",
       "    <tr>\n",
       "      <th>2</th>\n",
       "      <td>0000000000017</td>\n",
       "      <td>http://world-en.openfoodfacts.org/product/0000...</td>\n",
       "      <td>kiliweb</td>\n",
       "      <td>1529059080</td>\n",
       "      <td>2018-06-15T10:38:00Z</td>\n",
       "      <td>1561463718</td>\n",
       "      <td>2019-06-25T11:55:18Z</td>\n",
       "      <td>Vitória crackers</td>\n",
       "      <td>NaN</td>\n",
       "      <td>NaN</td>\n",
       "      <td>...</td>\n",
       "      <td>NaN</td>\n",
       "      <td>NaN</td>\n",
       "      <td>NaN</td>\n",
       "      <td>NaN</td>\n",
       "      <td>NaN</td>\n",
       "      <td>NaN</td>\n",
       "      <td>NaN</td>\n",
       "      <td>375.0</td>\n",
       "      <td>1569.0</td>\n",
       "      <td>NaN</td>\n",
       "    </tr>\n",
       "  </tbody>\n",
       "</table>\n",
       "<p>3 rows × 180 columns</p>\n",
       "</div>"
      ],
      "text/plain": [
       "                   code                                                url  \\\n",
       "0     00000000000000225  http://world-en.openfoodfacts.org/product/0000...   \n",
       "1  00000000000003429145  http://world-en.openfoodfacts.org/product/0000...   \n",
       "2         0000000000017  http://world-en.openfoodfacts.org/product/0000...   \n",
       "\n",
       "          creator   created_t      created_datetime  last_modified_t  \\\n",
       "0  nutrinet-sante  1623855208  2021-06-16T14:53:28Z       1623855209   \n",
       "1         kiliweb  1630483911  2021-09-01T08:11:51Z       1630484064   \n",
       "2         kiliweb  1529059080  2018-06-15T10:38:00Z       1561463718   \n",
       "\n",
       "  last_modified_datetime      product_name abbreviated_product_name  \\\n",
       "0   2021-06-16T14:53:29Z    jeunes pousses                      NaN   \n",
       "1   2021-09-01T08:14:24Z           L.casei                      NaN   \n",
       "2   2019-06-25T11:55:18Z  Vitória crackers                      NaN   \n",
       "\n",
       "  generic_name  ... water-hardness_100g choline_100g phylloquinone_100g  \\\n",
       "0          NaN  ...                 NaN          NaN                NaN   \n",
       "1          NaN  ...                 NaN          NaN                NaN   \n",
       "2          NaN  ...                 NaN          NaN                NaN   \n",
       "\n",
       "  beta-glucan_100g inositol_100g carnitine_100g energy-kj_100g  \\\n",
       "0              NaN           NaN            NaN            NaN   \n",
       "1              NaN           NaN            NaN            NaN   \n",
       "2              NaN           NaN            NaN            NaN   \n",
       "\n",
       "  energy-kcal_100g energy_100g energy-from-fat_100g  \n",
       "0              NaN         NaN                  NaN  \n",
       "1              NaN         NaN                  NaN  \n",
       "2            375.0      1569.0                  NaN  \n",
       "\n",
       "[3 rows x 180 columns]"
      ]
     },
     "execution_count": 9,
     "metadata": {},
     "output_type": "execute_result"
    }
   ],
   "source": [
    "# 3 premières lignes du fichier\n",
    "OpenFoodData.head(3)"
   ]
  },
  {
   "cell_type": "markdown",
   "metadata": {},
   "source": [
    "Entêtes des colonnes"
   ]
  },
  {
   "cell_type": "code",
   "execution_count": 10,
   "metadata": {},
   "outputs": [
    {
     "data": {
      "text/plain": [
       "['code',\n",
       " 'url',\n",
       " 'creator',\n",
       " 'created_t',\n",
       " 'created_datetime',\n",
       " 'last_modified_t',\n",
       " 'last_modified_datetime',\n",
       " 'product_name',\n",
       " 'abbreviated_product_name',\n",
       " 'generic_name',\n",
       " 'quantity',\n",
       " 'packaging',\n",
       " 'packaging_tags',\n",
       " 'packaging_text',\n",
       " 'brands',\n",
       " 'brands_tags',\n",
       " 'categories',\n",
       " 'categories_tags',\n",
       " 'categories_en',\n",
       " 'origins',\n",
       " 'origins_tags',\n",
       " 'origins_en',\n",
       " 'manufacturing_places',\n",
       " 'manufacturing_places_tags',\n",
       " 'labels',\n",
       " 'labels_tags',\n",
       " 'labels_en',\n",
       " 'emb_codes',\n",
       " 'emb_codes_tags',\n",
       " 'first_packaging_code_geo',\n",
       " 'cities_tags',\n",
       " 'purchase_places',\n",
       " 'stores',\n",
       " 'countries',\n",
       " 'countries_tags',\n",
       " 'countries_en',\n",
       " 'ingredients_text',\n",
       " 'allergens',\n",
       " 'traces',\n",
       " 'traces_tags',\n",
       " 'traces_en',\n",
       " 'serving_size',\n",
       " 'additives_tags',\n",
       " 'additives_en',\n",
       " 'ingredients_from_palm_oil_tags',\n",
       " 'ingredients_that_may_be_from_palm_oil_tags',\n",
       " 'nutriscore_grade',\n",
       " 'pnns_groups_1',\n",
       " 'pnns_groups_2',\n",
       " 'states',\n",
       " 'states_tags',\n",
       " 'states_en',\n",
       " 'brand_owner',\n",
       " 'ecoscore_grade_fr',\n",
       " 'main_category',\n",
       " 'main_category_en',\n",
       " 'image_url',\n",
       " 'image_small_url',\n",
       " 'image_ingredients_url',\n",
       " 'image_ingredients_small_url',\n",
       " 'image_nutrition_url',\n",
       " 'image_nutrition_small_url',\n",
       " 'serving_quantity',\n",
       " 'additives_n',\n",
       " 'ingredients_from_palm_oil_n',\n",
       " 'ingredients_that_may_be_from_palm_oil_n',\n",
       " 'nutriscore_score',\n",
       " 'nova_group',\n",
       " 'ecoscore_score_fr',\n",
       " 'fat_100g',\n",
       " 'saturated-fat_100g',\n",
       " '-butyric-acid_100g',\n",
       " '-caproic-acid_100g',\n",
       " '-caprylic-acid_100g',\n",
       " '-capric-acid_100g',\n",
       " '-lauric-acid_100g',\n",
       " '-myristic-acid_100g',\n",
       " '-palmitic-acid_100g',\n",
       " '-stearic-acid_100g',\n",
       " '-arachidic-acid_100g',\n",
       " '-behenic-acid_100g',\n",
       " '-lignoceric-acid_100g',\n",
       " '-cerotic-acid_100g',\n",
       " '-montanic-acid_100g',\n",
       " '-melissic-acid_100g',\n",
       " 'monounsaturated-fat_100g',\n",
       " 'polyunsaturated-fat_100g',\n",
       " 'omega-3-fat_100g',\n",
       " '-alpha-linolenic-acid_100g',\n",
       " '-eicosapentaenoic-acid_100g',\n",
       " '-docosahexaenoic-acid_100g',\n",
       " 'omega-6-fat_100g',\n",
       " '-linoleic-acid_100g',\n",
       " '-arachidonic-acid_100g',\n",
       " '-gamma-linolenic-acid_100g',\n",
       " '-dihomo-gamma-linolenic-acid_100g',\n",
       " 'omega-9-fat_100g',\n",
       " '-oleic-acid_100g',\n",
       " '-elaidic-acid_100g',\n",
       " '-gondoic-acid_100g',\n",
       " '-mead-acid_100g',\n",
       " '-erucic-acid_100g',\n",
       " '-nervonic-acid_100g',\n",
       " 'trans-fat_100g',\n",
       " 'cholesterol_100g',\n",
       " 'carbohydrates_100g',\n",
       " 'sugars_100g',\n",
       " '-sucrose_100g',\n",
       " '-glucose_100g',\n",
       " '-fructose_100g',\n",
       " '-lactose_100g',\n",
       " '-maltose_100g',\n",
       " '-maltodextrins_100g',\n",
       " 'starch_100g',\n",
       " 'polyols_100g',\n",
       " 'fiber_100g',\n",
       " '-soluble-fiber_100g',\n",
       " '-insoluble-fiber_100g',\n",
       " 'proteins_100g',\n",
       " 'casein_100g',\n",
       " 'serum-proteins_100g',\n",
       " 'nucleotides_100g',\n",
       " 'salt_100g',\n",
       " 'sodium_100g',\n",
       " 'alcohol_100g',\n",
       " 'vitamin-a_100g',\n",
       " 'beta-carotene_100g',\n",
       " 'vitamin-d_100g',\n",
       " 'vitamin-e_100g',\n",
       " 'vitamin-k_100g',\n",
       " 'vitamin-c_100g',\n",
       " 'vitamin-b1_100g',\n",
       " 'vitamin-b2_100g',\n",
       " 'vitamin-pp_100g',\n",
       " 'vitamin-b6_100g',\n",
       " 'vitamin-b9_100g',\n",
       " 'folates_100g',\n",
       " 'vitamin-b12_100g',\n",
       " 'biotin_100g',\n",
       " 'pantothenic-acid_100g',\n",
       " 'silica_100g',\n",
       " 'bicarbonate_100g',\n",
       " 'potassium_100g',\n",
       " 'chloride_100g',\n",
       " 'calcium_100g',\n",
       " 'phosphorus_100g',\n",
       " 'iron_100g',\n",
       " 'magnesium_100g',\n",
       " 'zinc_100g',\n",
       " 'copper_100g',\n",
       " 'manganese_100g',\n",
       " 'fluoride_100g',\n",
       " 'selenium_100g',\n",
       " 'chromium_100g',\n",
       " 'molybdenum_100g',\n",
       " 'iodine_100g',\n",
       " 'caffeine_100g',\n",
       " 'taurine_100g',\n",
       " 'ph_100g',\n",
       " 'fruits-vegetables-nuts_100g',\n",
       " 'fruits-vegetables-nuts-dried_100g',\n",
       " 'fruits-vegetables-nuts-estimate_100g',\n",
       " 'collagen-meat-protein-ratio_100g',\n",
       " 'cocoa_100g',\n",
       " 'chlorophyl_100g',\n",
       " 'carbon-footprint_100g',\n",
       " 'carbon-footprint-from-meat-or-fish_100g',\n",
       " 'nutrition-score-fr_100g',\n",
       " 'nutrition-score-uk_100g',\n",
       " 'glycemic-index_100g',\n",
       " 'water-hardness_100g',\n",
       " 'choline_100g',\n",
       " 'phylloquinone_100g',\n",
       " 'beta-glucan_100g',\n",
       " 'inositol_100g',\n",
       " 'carnitine_100g',\n",
       " 'energy-kj_100g',\n",
       " 'energy-kcal_100g',\n",
       " 'energy_100g',\n",
       " 'energy-from-fat_100g']"
      ]
     },
     "execution_count": 10,
     "metadata": {},
     "output_type": "execute_result"
    }
   ],
   "source": [
    "# liste des entêtes de colonnes\n",
    "OpenFoodData.columns.to_list()"
   ]
  },
  {
   "cell_type": "markdown",
   "metadata": {},
   "source": [
    "Il y a plusieurs types de colonnes contenant des dates : 'created_t', 'created_datetime', 'last_modified_t', 'last_modified_datetime'. Les colonnes finissant par \"_t\" sont en timestamp c'est à dire le nombre de secondes écoulées debuis le 1er janvier 1970 (début de l'heure UNIX). Les colonnes finissant par \"_datetime\" sont au format : yyyy-mm-ddThh:mn:ssZ.\n",
    "\n",
    "Nous allons supprimer les timestamps et mettre au format date les colonnes datetime"
   ]
  },
  {
   "cell_type": "code",
   "execution_count": 11,
   "metadata": {},
   "outputs": [
    {
     "data": {
      "text/html": [
       "<div>\n",
       "<style scoped>\n",
       "    .dataframe tbody tr th:only-of-type {\n",
       "        vertical-align: middle;\n",
       "    }\n",
       "\n",
       "    .dataframe tbody tr th {\n",
       "        vertical-align: top;\n",
       "    }\n",
       "\n",
       "    .dataframe thead th {\n",
       "        text-align: right;\n",
       "    }\n",
       "</style>\n",
       "<table border=\"1\" class=\"dataframe\">\n",
       "  <thead>\n",
       "    <tr style=\"text-align: right;\">\n",
       "      <th></th>\n",
       "      <th>created_t</th>\n",
       "      <th>last_modified_t</th>\n",
       "    </tr>\n",
       "  </thead>\n",
       "  <tbody>\n",
       "    <tr>\n",
       "      <th>0</th>\n",
       "      <td>1623855208</td>\n",
       "      <td>1623855209</td>\n",
       "    </tr>\n",
       "    <tr>\n",
       "      <th>1</th>\n",
       "      <td>1630483911</td>\n",
       "      <td>1630484064</td>\n",
       "    </tr>\n",
       "    <tr>\n",
       "      <th>2</th>\n",
       "      <td>1529059080</td>\n",
       "      <td>1561463718</td>\n",
       "    </tr>\n",
       "  </tbody>\n",
       "</table>\n",
       "</div>"
      ],
      "text/plain": [
       "    created_t  last_modified_t\n",
       "0  1623855208       1623855209\n",
       "1  1630483911       1630484064\n",
       "2  1529059080       1561463718"
      ]
     },
     "execution_count": 11,
     "metadata": {},
     "output_type": "execute_result"
    }
   ],
   "source": [
    "OpenFoodData.loc[:, OpenFoodData.columns.str.endswith('_t')].head(3)"
   ]
  },
  {
   "cell_type": "code",
   "execution_count": 12,
   "metadata": {},
   "outputs": [
    {
     "data": {
      "text/html": [
       "<div>\n",
       "<style scoped>\n",
       "    .dataframe tbody tr th:only-of-type {\n",
       "        vertical-align: middle;\n",
       "    }\n",
       "\n",
       "    .dataframe tbody tr th {\n",
       "        vertical-align: top;\n",
       "    }\n",
       "\n",
       "    .dataframe thead th {\n",
       "        text-align: right;\n",
       "    }\n",
       "</style>\n",
       "<table border=\"1\" class=\"dataframe\">\n",
       "  <thead>\n",
       "    <tr style=\"text-align: right;\">\n",
       "      <th></th>\n",
       "      <th>created_datetime</th>\n",
       "      <th>last_modified_datetime</th>\n",
       "    </tr>\n",
       "  </thead>\n",
       "  <tbody>\n",
       "    <tr>\n",
       "      <th>0</th>\n",
       "      <td>2021-06-16T14:53:28Z</td>\n",
       "      <td>2021-06-16T14:53:29Z</td>\n",
       "    </tr>\n",
       "    <tr>\n",
       "      <th>1</th>\n",
       "      <td>2021-09-01T08:11:51Z</td>\n",
       "      <td>2021-09-01T08:14:24Z</td>\n",
       "    </tr>\n",
       "    <tr>\n",
       "      <th>2</th>\n",
       "      <td>2018-06-15T10:38:00Z</td>\n",
       "      <td>2019-06-25T11:55:18Z</td>\n",
       "    </tr>\n",
       "  </tbody>\n",
       "</table>\n",
       "</div>"
      ],
      "text/plain": [
       "       created_datetime last_modified_datetime\n",
       "0  2021-06-16T14:53:28Z   2021-06-16T14:53:29Z\n",
       "1  2021-09-01T08:11:51Z   2021-09-01T08:14:24Z\n",
       "2  2018-06-15T10:38:00Z   2019-06-25T11:55:18Z"
      ]
     },
     "execution_count": 12,
     "metadata": {},
     "output_type": "execute_result"
    }
   ],
   "source": [
    "OpenFoodData.loc[:, OpenFoodData.columns.str.endswith('_datetime')].head(3)"
   ]
  },
  {
   "cell_type": "code",
   "execution_count": 13,
   "metadata": {},
   "outputs": [
    {
     "data": {
      "text/html": [
       "<div>\n",
       "<style scoped>\n",
       "    .dataframe tbody tr th:only-of-type {\n",
       "        vertical-align: middle;\n",
       "    }\n",
       "\n",
       "    .dataframe tbody tr th {\n",
       "        vertical-align: top;\n",
       "    }\n",
       "\n",
       "    .dataframe thead th {\n",
       "        text-align: right;\n",
       "    }\n",
       "</style>\n",
       "<table border=\"1\" class=\"dataframe\">\n",
       "  <thead>\n",
       "    <tr style=\"text-align: right;\">\n",
       "      <th></th>\n",
       "      <th>created_datetime</th>\n",
       "      <th>last_modified_datetime</th>\n",
       "    </tr>\n",
       "  </thead>\n",
       "  <tbody>\n",
       "    <tr>\n",
       "      <th>0</th>\n",
       "      <td>2021-06-16 14:53:28</td>\n",
       "      <td>2021-06-16 14:53:29</td>\n",
       "    </tr>\n",
       "    <tr>\n",
       "      <th>1</th>\n",
       "      <td>2021-09-01 08:11:51</td>\n",
       "      <td>2021-09-01 08:14:24</td>\n",
       "    </tr>\n",
       "    <tr>\n",
       "      <th>2</th>\n",
       "      <td>2018-06-15 10:38:00</td>\n",
       "      <td>2019-06-25 11:55:18</td>\n",
       "    </tr>\n",
       "    <tr>\n",
       "      <th>3</th>\n",
       "      <td>2018-10-13 21:06:14</td>\n",
       "      <td>2018-10-13 21:06:57</td>\n",
       "    </tr>\n",
       "    <tr>\n",
       "      <th>4</th>\n",
       "      <td>2019-11-19 15:02:16</td>\n",
       "      <td>2021-06-22 19:39:25</td>\n",
       "    </tr>\n",
       "    <tr>\n",
       "      <th>...</th>\n",
       "      <td>...</td>\n",
       "      <td>...</td>\n",
       "    </tr>\n",
       "    <tr>\n",
       "      <th>1991901</th>\n",
       "      <td>2019-10-31 09:24:26</td>\n",
       "      <td>2019-10-31 09:24:26</td>\n",
       "    </tr>\n",
       "    <tr>\n",
       "      <th>1991902</th>\n",
       "      <td>2020-12-16 07:58:23</td>\n",
       "      <td>2020-12-16 07:58:24</td>\n",
       "    </tr>\n",
       "    <tr>\n",
       "      <th>1991903</th>\n",
       "      <td>2020-02-08 14:20:13</td>\n",
       "      <td>2020-02-25 15:24:07</td>\n",
       "    </tr>\n",
       "    <tr>\n",
       "      <th>1991904</th>\n",
       "      <td>2021-02-12 11:35:28</td>\n",
       "      <td>2021-02-12 11:35:30</td>\n",
       "    </tr>\n",
       "    <tr>\n",
       "      <th>1991905</th>\n",
       "      <td>2020-04-18 15:11:00</td>\n",
       "      <td>2020-11-16 20:24:55</td>\n",
       "    </tr>\n",
       "  </tbody>\n",
       "</table>\n",
       "<p>1991906 rows × 2 columns</p>\n",
       "</div>"
      ],
      "text/plain": [
       "           created_datetime last_modified_datetime\n",
       "0       2021-06-16 14:53:28    2021-06-16 14:53:29\n",
       "1       2021-09-01 08:11:51    2021-09-01 08:14:24\n",
       "2       2018-06-15 10:38:00    2019-06-25 11:55:18\n",
       "3       2018-10-13 21:06:14    2018-10-13 21:06:57\n",
       "4       2019-11-19 15:02:16    2021-06-22 19:39:25\n",
       "...                     ...                    ...\n",
       "1991901 2019-10-31 09:24:26    2019-10-31 09:24:26\n",
       "1991902 2020-12-16 07:58:23    2020-12-16 07:58:24\n",
       "1991903 2020-02-08 14:20:13    2020-02-25 15:24:07\n",
       "1991904 2021-02-12 11:35:28    2021-02-12 11:35:30\n",
       "1991905 2020-04-18 15:11:00    2020-11-16 20:24:55\n",
       "\n",
       "[1991906 rows x 2 columns]"
      ]
     },
     "execution_count": 13,
     "metadata": {},
     "output_type": "execute_result"
    }
   ],
   "source": [
    "# suppression timestamp\n",
    "OFDClean = OpenFoodData.loc[:, ~OpenFoodData.columns.str.endswith('_t')]\n",
    "# mise au format temps\n",
    "OFDClean.loc[:, OFDClean.columns.str.endswith('_datetime')].apply(\n",
    "    lambda x: pd.to_datetime(x, infer_datetime_format=True))\n"
   ]
  },
  {
   "cell_type": "markdown",
   "metadata": {},
   "source": [
    "Étant donné qu'on travail pour Santé publique France on va se concentrer sur les prroduits vendus en France"
   ]
  },
  {
   "cell_type": "code",
   "execution_count": 14,
   "metadata": {},
   "outputs": [],
   "source": [
    "# sélection des produits vendu en france\n",
    "OFDCleanFR = OFDClean[OFDClean.countries.str.contains('fr',\n",
    "                                                      case=False,\n",
    "                                                      na=False)]\n"
   ]
  },
  {
   "cell_type": "code",
   "execution_count": 15,
   "metadata": {},
   "outputs": [
    {
     "data": {
      "application/vnd.plotly.v1+json": {
       "config": {
        "plotlyServerURL": "https://plot.ly"
       },
       "data": [
        {
         "alignmentgroup": "True",
         "hovertemplate": "Nombre de données=%{x}<br>Indicateurs=%{y}<extra></extra>",
         "legendgroup": "",
         "marker": {
          "color": "#636efa",
          "pattern": {
           "shape": ""
          }
         },
         "name": "",
         "offsetgroup": "",
         "orientation": "h",
         "showlegend": false,
         "textposition": "auto",
         "type": "bar",
         "x": [
          0,
          0,
          1,
          2,
          2,
          2,
          2,
          3,
          3,
          3,
          3,
          3,
          4,
          4,
          4,
          5,
          5,
          5,
          6,
          7,
          9,
          10,
          12,
          17,
          17,
          21,
          24,
          25,
          29,
          30,
          32,
          36,
          41,
          41,
          43,
          48,
          48,
          50,
          50,
          53,
          55,
          56,
          65,
          65,
          70,
          92,
          122,
          124,
          129,
          134,
          135,
          180,
          187,
          238,
          246,
          253,
          278,
          285,
          298,
          301,
          307,
          330,
          352,
          432,
          435,
          446,
          460,
          488,
          503,
          595,
          618,
          792,
          1036,
          1052,
          1398,
          1593,
          1732,
          1774,
          1804,
          1946,
          1952,
          1956,
          2122,
          2384,
          2586,
          2792,
          3269,
          3276,
          3510,
          3657,
          3683,
          4470,
          4488,
          4621,
          5067,
          5476,
          6573,
          7102,
          8706,
          10523,
          11036,
          11867,
          12010,
          23680,
          53347,
          53347,
          53422,
          65104,
          71556,
          74912,
          74956,
          76961,
          80029,
          80225,
          81434,
          81434,
          85561,
          90504,
          91809,
          91831,
          92100,
          98240,
          134038,
          134038,
          145402,
          156786,
          185900,
          185908,
          215099,
          255696,
          255698,
          255698,
          255698,
          262033,
          262034,
          262034,
          273424,
          283018,
          283018,
          307413,
          307413,
          307416,
          399413,
          399413,
          399413,
          399413,
          399414,
          431277,
          431277,
          446099,
          446139,
          499193,
          499193,
          629937,
          632862,
          632863,
          650101,
          650149,
          651974,
          653452,
          653890,
          656028,
          763766,
          763766,
          823434,
          847242,
          847244,
          847283,
          847284,
          847284,
          847284,
          847284,
          847284,
          847284,
          847284,
          847284,
          847284,
          847284
         ],
         "xaxis": "x",
         "y": [
          "-elaidic-acid_100g",
          "water-hardness_100g",
          "-dihomo-gamma-linolenic-acid_100g",
          "-nervonic-acid_100g",
          "-erucic-acid_100g",
          "-montanic-acid_100g",
          "-cerotic-acid_100g",
          "-stearic-acid_100g",
          "-caprylic-acid_100g",
          "-mead-acid_100g",
          "nutrition-score-uk_100g",
          "chlorophyl_100g",
          "-caproic-acid_100g",
          "glycemic-index_100g",
          "-capric-acid_100g",
          "-gamma-linolenic-acid_100g",
          "-myristic-acid_100g",
          "-gondoic-acid_100g",
          "-lignoceric-acid_100g",
          "-butyric-acid_100g",
          "-melissic-acid_100g",
          "-palmitic-acid_100g",
          "-lauric-acid_100g",
          "beta-glucan_100g",
          "-behenic-acid_100g",
          "nucleotides_100g",
          "-oleic-acid_100g",
          "-maltose_100g",
          "phylloquinone_100g",
          "-sucrose_100g",
          "carnitine_100g",
          "-glucose_100g",
          "inositol_100g",
          "serum-proteins_100g",
          "-arachidic-acid_100g",
          "casein_100g",
          "choline_100g",
          "beta-carotene_100g",
          "-fructose_100g",
          "chromium_100g",
          "omega-9-fat_100g",
          "molybdenum_100g",
          "taurine_100g",
          "-eicosapentaenoic-acid_100g",
          "-arachidonic-acid_100g",
          "silica_100g",
          "-maltodextrins_100g",
          "caffeine_100g",
          "energy-from-fat_100g",
          "ph_100g",
          "-docosahexaenoic-acid_100g",
          "-insoluble-fiber_100g",
          "-soluble-fiber_100g",
          "bicarbonate_100g",
          "fluoride_100g",
          "folates_100g",
          "vitamin-k_100g",
          "-lactose_100g",
          "collagen-meat-protein-ratio_100g",
          "starch_100g",
          "omega-6-fat_100g",
          "carbon-footprint_100g",
          "selenium_100g",
          "-linoleic-acid_100g",
          "copper_100g",
          "iodine_100g",
          "manganese_100g",
          "chloride_100g",
          "biotin_100g",
          "-alpha-linolenic-acid_100g",
          "fruits-vegetables-nuts-dried_100g",
          "polyols_100g",
          "zinc_100g",
          "pantothenic-acid_100g",
          "omega-3-fat_100g",
          "vitamin-b9_100g",
          "phosphorus_100g",
          "vitamin-b12_100g",
          "vitamin-d_100g",
          "vitamin-pp_100g",
          "vitamin-e_100g",
          "vitamin-b2_100g",
          "vitamin-b6_100g",
          "vitamin-b1_100g",
          "magnesium_100g",
          "potassium_100g",
          "monounsaturated-fat_100g",
          "polyunsaturated-fat_100g",
          "vitamin-a_100g",
          "trans-fat_100g",
          "cholesterol_100g",
          "cocoa_100g",
          "brand_owner",
          "packaging_text",
          "vitamin-c_100g",
          "iron_100g",
          "fruits-vegetables-nuts_100g",
          "abbreviated_product_name",
          "calcium_100g",
          "fruits-vegetables-nuts-estimate_100g",
          "alcohol_100g",
          "carbon-footprint-from-meat-or-fish_100g",
          "ingredients_from_palm_oil_tags",
          "ingredients_that_may_be_from_palm_oil_tags",
          "origins_tags",
          "origins_en",
          "origins",
          "traces",
          "first_packaging_code_geo",
          "manufacturing_places_tags",
          "manufacturing_places",
          "cities_tags",
          "energy-kj_100g",
          "generic_name",
          "traces_en",
          "traces_tags",
          "serving_quantity",
          "serving_size",
          "emb_codes_tags",
          "emb_codes",
          "allergens",
          "purchase_places",
          "additives_tags",
          "additives_en",
          "fiber_100g",
          "stores",
          "packaging_tags",
          "packaging",
          "nova_group",
          "ingredients_text",
          "ingredients_that_may_be_from_palm_oil_n",
          "additives_n",
          "ingredients_from_palm_oil_n",
          "labels",
          "labels_tags",
          "labels_en",
          "quantity",
          "ecoscore_grade_fr",
          "ecoscore_score_fr",
          "nutriscore_grade",
          "nutriscore_score",
          "nutrition-score-fr_100g",
          "main_category_en",
          "main_category",
          "categories_en",
          "categories_tags",
          "categories",
          "image_nutrition_small_url",
          "image_nutrition_url",
          "brands_tags",
          "brands",
          "image_ingredients_small_url",
          "image_ingredients_url",
          "energy-kcal_100g",
          "sodium_100g",
          "salt_100g",
          "carbohydrates_100g",
          "fat_100g",
          "proteins_100g",
          "sugars_100g",
          "saturated-fat_100g",
          "energy_100g",
          "image_url",
          "image_small_url",
          "product_name",
          "pnns_groups_1",
          "pnns_groups_2",
          "creator",
          "last_modified_datetime",
          "countries",
          "created_datetime",
          "states_en",
          "countries_tags",
          "countries_en",
          "url",
          "states",
          "states_tags",
          "code"
         ],
         "yaxis": "y"
        }
       ],
       "layout": {
        "barmode": "relative",
        "height": 3000,
        "legend": {
         "tracegroupgap": 0
        },
        "margin": {
         "t": 60
        },
        "template": {
         "data": {
          "bar": [
           {
            "error_x": {
             "color": "#2a3f5f"
            },
            "error_y": {
             "color": "#2a3f5f"
            },
            "marker": {
             "line": {
              "color": "#E5ECF6",
              "width": 0.5
             },
             "pattern": {
              "fillmode": "overlay",
              "size": 10,
              "solidity": 0.2
             }
            },
            "type": "bar"
           }
          ],
          "barpolar": [
           {
            "marker": {
             "line": {
              "color": "#E5ECF6",
              "width": 0.5
             },
             "pattern": {
              "fillmode": "overlay",
              "size": 10,
              "solidity": 0.2
             }
            },
            "type": "barpolar"
           }
          ],
          "carpet": [
           {
            "aaxis": {
             "endlinecolor": "#2a3f5f",
             "gridcolor": "white",
             "linecolor": "white",
             "minorgridcolor": "white",
             "startlinecolor": "#2a3f5f"
            },
            "baxis": {
             "endlinecolor": "#2a3f5f",
             "gridcolor": "white",
             "linecolor": "white",
             "minorgridcolor": "white",
             "startlinecolor": "#2a3f5f"
            },
            "type": "carpet"
           }
          ],
          "choropleth": [
           {
            "colorbar": {
             "outlinewidth": 0,
             "ticks": ""
            },
            "type": "choropleth"
           }
          ],
          "contour": [
           {
            "colorbar": {
             "outlinewidth": 0,
             "ticks": ""
            },
            "colorscale": [
             [
              0,
              "#0d0887"
             ],
             [
              0.1111111111111111,
              "#46039f"
             ],
             [
              0.2222222222222222,
              "#7201a8"
             ],
             [
              0.3333333333333333,
              "#9c179e"
             ],
             [
              0.4444444444444444,
              "#bd3786"
             ],
             [
              0.5555555555555556,
              "#d8576b"
             ],
             [
              0.6666666666666666,
              "#ed7953"
             ],
             [
              0.7777777777777778,
              "#fb9f3a"
             ],
             [
              0.8888888888888888,
              "#fdca26"
             ],
             [
              1,
              "#f0f921"
             ]
            ],
            "type": "contour"
           }
          ],
          "contourcarpet": [
           {
            "colorbar": {
             "outlinewidth": 0,
             "ticks": ""
            },
            "type": "contourcarpet"
           }
          ],
          "heatmap": [
           {
            "colorbar": {
             "outlinewidth": 0,
             "ticks": ""
            },
            "colorscale": [
             [
              0,
              "#0d0887"
             ],
             [
              0.1111111111111111,
              "#46039f"
             ],
             [
              0.2222222222222222,
              "#7201a8"
             ],
             [
              0.3333333333333333,
              "#9c179e"
             ],
             [
              0.4444444444444444,
              "#bd3786"
             ],
             [
              0.5555555555555556,
              "#d8576b"
             ],
             [
              0.6666666666666666,
              "#ed7953"
             ],
             [
              0.7777777777777778,
              "#fb9f3a"
             ],
             [
              0.8888888888888888,
              "#fdca26"
             ],
             [
              1,
              "#f0f921"
             ]
            ],
            "type": "heatmap"
           }
          ],
          "heatmapgl": [
           {
            "colorbar": {
             "outlinewidth": 0,
             "ticks": ""
            },
            "colorscale": [
             [
              0,
              "#0d0887"
             ],
             [
              0.1111111111111111,
              "#46039f"
             ],
             [
              0.2222222222222222,
              "#7201a8"
             ],
             [
              0.3333333333333333,
              "#9c179e"
             ],
             [
              0.4444444444444444,
              "#bd3786"
             ],
             [
              0.5555555555555556,
              "#d8576b"
             ],
             [
              0.6666666666666666,
              "#ed7953"
             ],
             [
              0.7777777777777778,
              "#fb9f3a"
             ],
             [
              0.8888888888888888,
              "#fdca26"
             ],
             [
              1,
              "#f0f921"
             ]
            ],
            "type": "heatmapgl"
           }
          ],
          "histogram": [
           {
            "marker": {
             "pattern": {
              "fillmode": "overlay",
              "size": 10,
              "solidity": 0.2
             }
            },
            "type": "histogram"
           }
          ],
          "histogram2d": [
           {
            "colorbar": {
             "outlinewidth": 0,
             "ticks": ""
            },
            "colorscale": [
             [
              0,
              "#0d0887"
             ],
             [
              0.1111111111111111,
              "#46039f"
             ],
             [
              0.2222222222222222,
              "#7201a8"
             ],
             [
              0.3333333333333333,
              "#9c179e"
             ],
             [
              0.4444444444444444,
              "#bd3786"
             ],
             [
              0.5555555555555556,
              "#d8576b"
             ],
             [
              0.6666666666666666,
              "#ed7953"
             ],
             [
              0.7777777777777778,
              "#fb9f3a"
             ],
             [
              0.8888888888888888,
              "#fdca26"
             ],
             [
              1,
              "#f0f921"
             ]
            ],
            "type": "histogram2d"
           }
          ],
          "histogram2dcontour": [
           {
            "colorbar": {
             "outlinewidth": 0,
             "ticks": ""
            },
            "colorscale": [
             [
              0,
              "#0d0887"
             ],
             [
              0.1111111111111111,
              "#46039f"
             ],
             [
              0.2222222222222222,
              "#7201a8"
             ],
             [
              0.3333333333333333,
              "#9c179e"
             ],
             [
              0.4444444444444444,
              "#bd3786"
             ],
             [
              0.5555555555555556,
              "#d8576b"
             ],
             [
              0.6666666666666666,
              "#ed7953"
             ],
             [
              0.7777777777777778,
              "#fb9f3a"
             ],
             [
              0.8888888888888888,
              "#fdca26"
             ],
             [
              1,
              "#f0f921"
             ]
            ],
            "type": "histogram2dcontour"
           }
          ],
          "mesh3d": [
           {
            "colorbar": {
             "outlinewidth": 0,
             "ticks": ""
            },
            "type": "mesh3d"
           }
          ],
          "parcoords": [
           {
            "line": {
             "colorbar": {
              "outlinewidth": 0,
              "ticks": ""
             }
            },
            "type": "parcoords"
           }
          ],
          "pie": [
           {
            "automargin": true,
            "type": "pie"
           }
          ],
          "scatter": [
           {
            "marker": {
             "colorbar": {
              "outlinewidth": 0,
              "ticks": ""
             }
            },
            "type": "scatter"
           }
          ],
          "scatter3d": [
           {
            "line": {
             "colorbar": {
              "outlinewidth": 0,
              "ticks": ""
             }
            },
            "marker": {
             "colorbar": {
              "outlinewidth": 0,
              "ticks": ""
             }
            },
            "type": "scatter3d"
           }
          ],
          "scattercarpet": [
           {
            "marker": {
             "colorbar": {
              "outlinewidth": 0,
              "ticks": ""
             }
            },
            "type": "scattercarpet"
           }
          ],
          "scattergeo": [
           {
            "marker": {
             "colorbar": {
              "outlinewidth": 0,
              "ticks": ""
             }
            },
            "type": "scattergeo"
           }
          ],
          "scattergl": [
           {
            "marker": {
             "colorbar": {
              "outlinewidth": 0,
              "ticks": ""
             }
            },
            "type": "scattergl"
           }
          ],
          "scattermapbox": [
           {
            "marker": {
             "colorbar": {
              "outlinewidth": 0,
              "ticks": ""
             }
            },
            "type": "scattermapbox"
           }
          ],
          "scatterpolar": [
           {
            "marker": {
             "colorbar": {
              "outlinewidth": 0,
              "ticks": ""
             }
            },
            "type": "scatterpolar"
           }
          ],
          "scatterpolargl": [
           {
            "marker": {
             "colorbar": {
              "outlinewidth": 0,
              "ticks": ""
             }
            },
            "type": "scatterpolargl"
           }
          ],
          "scatterternary": [
           {
            "marker": {
             "colorbar": {
              "outlinewidth": 0,
              "ticks": ""
             }
            },
            "type": "scatterternary"
           }
          ],
          "surface": [
           {
            "colorbar": {
             "outlinewidth": 0,
             "ticks": ""
            },
            "colorscale": [
             [
              0,
              "#0d0887"
             ],
             [
              0.1111111111111111,
              "#46039f"
             ],
             [
              0.2222222222222222,
              "#7201a8"
             ],
             [
              0.3333333333333333,
              "#9c179e"
             ],
             [
              0.4444444444444444,
              "#bd3786"
             ],
             [
              0.5555555555555556,
              "#d8576b"
             ],
             [
              0.6666666666666666,
              "#ed7953"
             ],
             [
              0.7777777777777778,
              "#fb9f3a"
             ],
             [
              0.8888888888888888,
              "#fdca26"
             ],
             [
              1,
              "#f0f921"
             ]
            ],
            "type": "surface"
           }
          ],
          "table": [
           {
            "cells": {
             "fill": {
              "color": "#EBF0F8"
             },
             "line": {
              "color": "white"
             }
            },
            "header": {
             "fill": {
              "color": "#C8D4E3"
             },
             "line": {
              "color": "white"
             }
            },
            "type": "table"
           }
          ]
         },
         "layout": {
          "annotationdefaults": {
           "arrowcolor": "#2a3f5f",
           "arrowhead": 0,
           "arrowwidth": 1
          },
          "autotypenumbers": "strict",
          "coloraxis": {
           "colorbar": {
            "outlinewidth": 0,
            "ticks": ""
           }
          },
          "colorscale": {
           "diverging": [
            [
             0,
             "#8e0152"
            ],
            [
             0.1,
             "#c51b7d"
            ],
            [
             0.2,
             "#de77ae"
            ],
            [
             0.3,
             "#f1b6da"
            ],
            [
             0.4,
             "#fde0ef"
            ],
            [
             0.5,
             "#f7f7f7"
            ],
            [
             0.6,
             "#e6f5d0"
            ],
            [
             0.7,
             "#b8e186"
            ],
            [
             0.8,
             "#7fbc41"
            ],
            [
             0.9,
             "#4d9221"
            ],
            [
             1,
             "#276419"
            ]
           ],
           "sequential": [
            [
             0,
             "#0d0887"
            ],
            [
             0.1111111111111111,
             "#46039f"
            ],
            [
             0.2222222222222222,
             "#7201a8"
            ],
            [
             0.3333333333333333,
             "#9c179e"
            ],
            [
             0.4444444444444444,
             "#bd3786"
            ],
            [
             0.5555555555555556,
             "#d8576b"
            ],
            [
             0.6666666666666666,
             "#ed7953"
            ],
            [
             0.7777777777777778,
             "#fb9f3a"
            ],
            [
             0.8888888888888888,
             "#fdca26"
            ],
            [
             1,
             "#f0f921"
            ]
           ],
           "sequentialminus": [
            [
             0,
             "#0d0887"
            ],
            [
             0.1111111111111111,
             "#46039f"
            ],
            [
             0.2222222222222222,
             "#7201a8"
            ],
            [
             0.3333333333333333,
             "#9c179e"
            ],
            [
             0.4444444444444444,
             "#bd3786"
            ],
            [
             0.5555555555555556,
             "#d8576b"
            ],
            [
             0.6666666666666666,
             "#ed7953"
            ],
            [
             0.7777777777777778,
             "#fb9f3a"
            ],
            [
             0.8888888888888888,
             "#fdca26"
            ],
            [
             1,
             "#f0f921"
            ]
           ]
          },
          "colorway": [
           "#636efa",
           "#EF553B",
           "#00cc96",
           "#ab63fa",
           "#FFA15A",
           "#19d3f3",
           "#FF6692",
           "#B6E880",
           "#FF97FF",
           "#FECB52"
          ],
          "font": {
           "color": "#2a3f5f"
          },
          "geo": {
           "bgcolor": "white",
           "lakecolor": "white",
           "landcolor": "#E5ECF6",
           "showlakes": true,
           "showland": true,
           "subunitcolor": "white"
          },
          "hoverlabel": {
           "align": "left"
          },
          "hovermode": "closest",
          "mapbox": {
           "style": "light"
          },
          "paper_bgcolor": "white",
          "plot_bgcolor": "#E5ECF6",
          "polar": {
           "angularaxis": {
            "gridcolor": "white",
            "linecolor": "white",
            "ticks": ""
           },
           "bgcolor": "#E5ECF6",
           "radialaxis": {
            "gridcolor": "white",
            "linecolor": "white",
            "ticks": ""
           }
          },
          "scene": {
           "xaxis": {
            "backgroundcolor": "#E5ECF6",
            "gridcolor": "white",
            "gridwidth": 2,
            "linecolor": "white",
            "showbackground": true,
            "ticks": "",
            "zerolinecolor": "white"
           },
           "yaxis": {
            "backgroundcolor": "#E5ECF6",
            "gridcolor": "white",
            "gridwidth": 2,
            "linecolor": "white",
            "showbackground": true,
            "ticks": "",
            "zerolinecolor": "white"
           },
           "zaxis": {
            "backgroundcolor": "#E5ECF6",
            "gridcolor": "white",
            "gridwidth": 2,
            "linecolor": "white",
            "showbackground": true,
            "ticks": "",
            "zerolinecolor": "white"
           }
          },
          "shapedefaults": {
           "line": {
            "color": "#2a3f5f"
           }
          },
          "ternary": {
           "aaxis": {
            "gridcolor": "white",
            "linecolor": "white",
            "ticks": ""
           },
           "baxis": {
            "gridcolor": "white",
            "linecolor": "white",
            "ticks": ""
           },
           "bgcolor": "#E5ECF6",
           "caxis": {
            "gridcolor": "white",
            "linecolor": "white",
            "ticks": ""
           }
          },
          "title": {
           "x": 0.05
          },
          "xaxis": {
           "automargin": true,
           "gridcolor": "white",
           "linecolor": "white",
           "ticks": "",
           "title": {
            "standoff": 15
           },
           "zerolinecolor": "white",
           "zerolinewidth": 2
          },
          "yaxis": {
           "automargin": true,
           "gridcolor": "white",
           "linecolor": "white",
           "ticks": "",
           "title": {
            "standoff": 15
           },
           "zerolinecolor": "white",
           "zerolinewidth": 2
          }
         }
        },
        "xaxis": {
         "anchor": "y",
         "domain": [
          0,
          1
         ],
         "title": {
          "text": "Nombre de données"
         }
        },
        "yaxis": {
         "anchor": "x",
         "domain": [
          0,
          1
         ],
         "title": {
          "text": "Indicateurs"
         }
        }
       }
      }
     },
     "metadata": {},
     "output_type": "display_data"
    }
   ],
   "source": [
    "px.bar(x=OFDCleanFR.shape[0] - OFDCleanFR.isna().sum().sort_values(ascending=False).values,\n",
    "       y=OFDCleanFR.isna().sum().sort_values(ascending=False).index,\n",
    "       labels=dict(x='Nombre de données', y='Indicateurs'),\n",
    "       height=3000)\n"
   ]
  },
  {
   "cell_type": "code",
   "execution_count": 16,
   "metadata": {},
   "outputs": [],
   "source": [
    "# filtrer les colonnes concernant la quantité pour 100g entre 0 et 100 pour éliminer les valeurs aberrantes\n",
    "# fonction de selection des colonnes en fonction du nom\n",
    "columns_100g_small = OFDCleanFR.loc[:, (\n",
    "    OFDCleanFR.columns.str.endswith('_100g')\n",
    "    & ~OFDCleanFR.columns.str.contains('energy|footprint|nutrition|water'))]\n",
    "OFDFilt = columns_100g_small.mask(\n",
    "    ((columns_100g_small < 0) | (columns_100g_small > 100)), other=np.nan)\n",
    "OFDFiltFull = OFDCleanFR.loc[:,\n",
    "                             ~OFDCleanFR.columns.isin(OFDFilt.columns)].join(\n",
    "                                 OFDFilt)\n"
   ]
  },
  {
   "cell_type": "code",
   "execution_count": 17,
   "metadata": {},
   "outputs": [],
   "source": [
    "# suppression des données avec plus de 99% de NaN\n",
    "OFDFiltFull.dropna(axis='columns',\n",
    "                   thresh=(OFDFiltFull.shape[0] * .01),\n",
    "                   inplace=True)\n"
   ]
  },
  {
   "cell_type": "code",
   "execution_count": 18,
   "metadata": {},
   "outputs": [
    {
     "data": {
      "application/vnd.plotly.v1+json": {
       "config": {
        "plotlyServerURL": "https://plot.ly"
       },
       "data": [
        {
         "alignmentgroup": "True",
         "hovertemplate": "Nombre de données=%{x}<br>Indicateurs=%{y}<extra></extra>",
         "legendgroup": "",
         "marker": {
          "color": "#636efa",
          "pattern": {
           "shape": ""
          }
         },
         "name": "",
         "offsetgroup": "",
         "orientation": "h",
         "showlegend": false,
         "textposition": "auto",
         "type": "bar",
         "x": [
          8688,
          10523,
          11036,
          11867,
          12010,
          23680,
          53347,
          53347,
          53422,
          65104,
          71556,
          74912,
          74956,
          76961,
          80029,
          80225,
          81434,
          81434,
          85561,
          90504,
          91809,
          91831,
          92100,
          98240,
          134038,
          134038,
          145400,
          156786,
          185900,
          185908,
          215099,
          255696,
          255698,
          255698,
          255698,
          262033,
          262034,
          262034,
          273424,
          283018,
          283018,
          307413,
          307413,
          307416,
          399413,
          399413,
          399413,
          399413,
          399414,
          431277,
          431277,
          446099,
          446139,
          499193,
          499193,
          629937,
          632832,
          632845,
          650075,
          650136,
          651967,
          653441,
          653880,
          656028,
          763766,
          763766,
          823434,
          847242,
          847244,
          847283,
          847284,
          847284,
          847284,
          847284,
          847284,
          847284,
          847284,
          847284,
          847284,
          847284
         ],
         "xaxis": "x",
         "y": [
          "calcium_100g",
          "fruits-vegetables-nuts-estimate_100g",
          "alcohol_100g",
          "carbon-footprint-from-meat-or-fish_100g",
          "ingredients_from_palm_oil_tags",
          "ingredients_that_may_be_from_palm_oil_tags",
          "origins_en",
          "origins_tags",
          "origins",
          "traces",
          "first_packaging_code_geo",
          "manufacturing_places_tags",
          "manufacturing_places",
          "cities_tags",
          "energy-kj_100g",
          "generic_name",
          "traces_en",
          "traces_tags",
          "serving_quantity",
          "serving_size",
          "emb_codes_tags",
          "emb_codes",
          "allergens",
          "purchase_places",
          "additives_en",
          "additives_tags",
          "fiber_100g",
          "stores",
          "packaging_tags",
          "packaging",
          "nova_group",
          "ingredients_text",
          "ingredients_from_palm_oil_n",
          "ingredients_that_may_be_from_palm_oil_n",
          "additives_n",
          "labels",
          "labels_tags",
          "labels_en",
          "quantity",
          "ecoscore_grade_fr",
          "ecoscore_score_fr",
          "nutriscore_score",
          "nutriscore_grade",
          "nutrition-score-fr_100g",
          "categories_tags",
          "main_category",
          "main_category_en",
          "categories_en",
          "categories",
          "image_nutrition_url",
          "image_nutrition_small_url",
          "brands_tags",
          "brands",
          "image_ingredients_small_url",
          "image_ingredients_url",
          "energy-kcal_100g",
          "salt_100g",
          "sodium_100g",
          "carbohydrates_100g",
          "fat_100g",
          "proteins_100g",
          "sugars_100g",
          "saturated-fat_100g",
          "energy_100g",
          "image_small_url",
          "image_url",
          "product_name",
          "pnns_groups_1",
          "pnns_groups_2",
          "creator",
          "last_modified_datetime",
          "states_en",
          "states_tags",
          "states",
          "url",
          "countries_en",
          "countries_tags",
          "countries",
          "created_datetime",
          "code"
         ],
         "yaxis": "y"
        }
       ],
       "layout": {
        "barmode": "relative",
        "height": 1500,
        "legend": {
         "tracegroupgap": 0
        },
        "margin": {
         "t": 60
        },
        "template": {
         "data": {
          "bar": [
           {
            "error_x": {
             "color": "#2a3f5f"
            },
            "error_y": {
             "color": "#2a3f5f"
            },
            "marker": {
             "line": {
              "color": "#E5ECF6",
              "width": 0.5
             },
             "pattern": {
              "fillmode": "overlay",
              "size": 10,
              "solidity": 0.2
             }
            },
            "type": "bar"
           }
          ],
          "barpolar": [
           {
            "marker": {
             "line": {
              "color": "#E5ECF6",
              "width": 0.5
             },
             "pattern": {
              "fillmode": "overlay",
              "size": 10,
              "solidity": 0.2
             }
            },
            "type": "barpolar"
           }
          ],
          "carpet": [
           {
            "aaxis": {
             "endlinecolor": "#2a3f5f",
             "gridcolor": "white",
             "linecolor": "white",
             "minorgridcolor": "white",
             "startlinecolor": "#2a3f5f"
            },
            "baxis": {
             "endlinecolor": "#2a3f5f",
             "gridcolor": "white",
             "linecolor": "white",
             "minorgridcolor": "white",
             "startlinecolor": "#2a3f5f"
            },
            "type": "carpet"
           }
          ],
          "choropleth": [
           {
            "colorbar": {
             "outlinewidth": 0,
             "ticks": ""
            },
            "type": "choropleth"
           }
          ],
          "contour": [
           {
            "colorbar": {
             "outlinewidth": 0,
             "ticks": ""
            },
            "colorscale": [
             [
              0,
              "#0d0887"
             ],
             [
              0.1111111111111111,
              "#46039f"
             ],
             [
              0.2222222222222222,
              "#7201a8"
             ],
             [
              0.3333333333333333,
              "#9c179e"
             ],
             [
              0.4444444444444444,
              "#bd3786"
             ],
             [
              0.5555555555555556,
              "#d8576b"
             ],
             [
              0.6666666666666666,
              "#ed7953"
             ],
             [
              0.7777777777777778,
              "#fb9f3a"
             ],
             [
              0.8888888888888888,
              "#fdca26"
             ],
             [
              1,
              "#f0f921"
             ]
            ],
            "type": "contour"
           }
          ],
          "contourcarpet": [
           {
            "colorbar": {
             "outlinewidth": 0,
             "ticks": ""
            },
            "type": "contourcarpet"
           }
          ],
          "heatmap": [
           {
            "colorbar": {
             "outlinewidth": 0,
             "ticks": ""
            },
            "colorscale": [
             [
              0,
              "#0d0887"
             ],
             [
              0.1111111111111111,
              "#46039f"
             ],
             [
              0.2222222222222222,
              "#7201a8"
             ],
             [
              0.3333333333333333,
              "#9c179e"
             ],
             [
              0.4444444444444444,
              "#bd3786"
             ],
             [
              0.5555555555555556,
              "#d8576b"
             ],
             [
              0.6666666666666666,
              "#ed7953"
             ],
             [
              0.7777777777777778,
              "#fb9f3a"
             ],
             [
              0.8888888888888888,
              "#fdca26"
             ],
             [
              1,
              "#f0f921"
             ]
            ],
            "type": "heatmap"
           }
          ],
          "heatmapgl": [
           {
            "colorbar": {
             "outlinewidth": 0,
             "ticks": ""
            },
            "colorscale": [
             [
              0,
              "#0d0887"
             ],
             [
              0.1111111111111111,
              "#46039f"
             ],
             [
              0.2222222222222222,
              "#7201a8"
             ],
             [
              0.3333333333333333,
              "#9c179e"
             ],
             [
              0.4444444444444444,
              "#bd3786"
             ],
             [
              0.5555555555555556,
              "#d8576b"
             ],
             [
              0.6666666666666666,
              "#ed7953"
             ],
             [
              0.7777777777777778,
              "#fb9f3a"
             ],
             [
              0.8888888888888888,
              "#fdca26"
             ],
             [
              1,
              "#f0f921"
             ]
            ],
            "type": "heatmapgl"
           }
          ],
          "histogram": [
           {
            "marker": {
             "pattern": {
              "fillmode": "overlay",
              "size": 10,
              "solidity": 0.2
             }
            },
            "type": "histogram"
           }
          ],
          "histogram2d": [
           {
            "colorbar": {
             "outlinewidth": 0,
             "ticks": ""
            },
            "colorscale": [
             [
              0,
              "#0d0887"
             ],
             [
              0.1111111111111111,
              "#46039f"
             ],
             [
              0.2222222222222222,
              "#7201a8"
             ],
             [
              0.3333333333333333,
              "#9c179e"
             ],
             [
              0.4444444444444444,
              "#bd3786"
             ],
             [
              0.5555555555555556,
              "#d8576b"
             ],
             [
              0.6666666666666666,
              "#ed7953"
             ],
             [
              0.7777777777777778,
              "#fb9f3a"
             ],
             [
              0.8888888888888888,
              "#fdca26"
             ],
             [
              1,
              "#f0f921"
             ]
            ],
            "type": "histogram2d"
           }
          ],
          "histogram2dcontour": [
           {
            "colorbar": {
             "outlinewidth": 0,
             "ticks": ""
            },
            "colorscale": [
             [
              0,
              "#0d0887"
             ],
             [
              0.1111111111111111,
              "#46039f"
             ],
             [
              0.2222222222222222,
              "#7201a8"
             ],
             [
              0.3333333333333333,
              "#9c179e"
             ],
             [
              0.4444444444444444,
              "#bd3786"
             ],
             [
              0.5555555555555556,
              "#d8576b"
             ],
             [
              0.6666666666666666,
              "#ed7953"
             ],
             [
              0.7777777777777778,
              "#fb9f3a"
             ],
             [
              0.8888888888888888,
              "#fdca26"
             ],
             [
              1,
              "#f0f921"
             ]
            ],
            "type": "histogram2dcontour"
           }
          ],
          "mesh3d": [
           {
            "colorbar": {
             "outlinewidth": 0,
             "ticks": ""
            },
            "type": "mesh3d"
           }
          ],
          "parcoords": [
           {
            "line": {
             "colorbar": {
              "outlinewidth": 0,
              "ticks": ""
             }
            },
            "type": "parcoords"
           }
          ],
          "pie": [
           {
            "automargin": true,
            "type": "pie"
           }
          ],
          "scatter": [
           {
            "marker": {
             "colorbar": {
              "outlinewidth": 0,
              "ticks": ""
             }
            },
            "type": "scatter"
           }
          ],
          "scatter3d": [
           {
            "line": {
             "colorbar": {
              "outlinewidth": 0,
              "ticks": ""
             }
            },
            "marker": {
             "colorbar": {
              "outlinewidth": 0,
              "ticks": ""
             }
            },
            "type": "scatter3d"
           }
          ],
          "scattercarpet": [
           {
            "marker": {
             "colorbar": {
              "outlinewidth": 0,
              "ticks": ""
             }
            },
            "type": "scattercarpet"
           }
          ],
          "scattergeo": [
           {
            "marker": {
             "colorbar": {
              "outlinewidth": 0,
              "ticks": ""
             }
            },
            "type": "scattergeo"
           }
          ],
          "scattergl": [
           {
            "marker": {
             "colorbar": {
              "outlinewidth": 0,
              "ticks": ""
             }
            },
            "type": "scattergl"
           }
          ],
          "scattermapbox": [
           {
            "marker": {
             "colorbar": {
              "outlinewidth": 0,
              "ticks": ""
             }
            },
            "type": "scattermapbox"
           }
          ],
          "scatterpolar": [
           {
            "marker": {
             "colorbar": {
              "outlinewidth": 0,
              "ticks": ""
             }
            },
            "type": "scatterpolar"
           }
          ],
          "scatterpolargl": [
           {
            "marker": {
             "colorbar": {
              "outlinewidth": 0,
              "ticks": ""
             }
            },
            "type": "scatterpolargl"
           }
          ],
          "scatterternary": [
           {
            "marker": {
             "colorbar": {
              "outlinewidth": 0,
              "ticks": ""
             }
            },
            "type": "scatterternary"
           }
          ],
          "surface": [
           {
            "colorbar": {
             "outlinewidth": 0,
             "ticks": ""
            },
            "colorscale": [
             [
              0,
              "#0d0887"
             ],
             [
              0.1111111111111111,
              "#46039f"
             ],
             [
              0.2222222222222222,
              "#7201a8"
             ],
             [
              0.3333333333333333,
              "#9c179e"
             ],
             [
              0.4444444444444444,
              "#bd3786"
             ],
             [
              0.5555555555555556,
              "#d8576b"
             ],
             [
              0.6666666666666666,
              "#ed7953"
             ],
             [
              0.7777777777777778,
              "#fb9f3a"
             ],
             [
              0.8888888888888888,
              "#fdca26"
             ],
             [
              1,
              "#f0f921"
             ]
            ],
            "type": "surface"
           }
          ],
          "table": [
           {
            "cells": {
             "fill": {
              "color": "#EBF0F8"
             },
             "line": {
              "color": "white"
             }
            },
            "header": {
             "fill": {
              "color": "#C8D4E3"
             },
             "line": {
              "color": "white"
             }
            },
            "type": "table"
           }
          ]
         },
         "layout": {
          "annotationdefaults": {
           "arrowcolor": "#2a3f5f",
           "arrowhead": 0,
           "arrowwidth": 1
          },
          "autotypenumbers": "strict",
          "coloraxis": {
           "colorbar": {
            "outlinewidth": 0,
            "ticks": ""
           }
          },
          "colorscale": {
           "diverging": [
            [
             0,
             "#8e0152"
            ],
            [
             0.1,
             "#c51b7d"
            ],
            [
             0.2,
             "#de77ae"
            ],
            [
             0.3,
             "#f1b6da"
            ],
            [
             0.4,
             "#fde0ef"
            ],
            [
             0.5,
             "#f7f7f7"
            ],
            [
             0.6,
             "#e6f5d0"
            ],
            [
             0.7,
             "#b8e186"
            ],
            [
             0.8,
             "#7fbc41"
            ],
            [
             0.9,
             "#4d9221"
            ],
            [
             1,
             "#276419"
            ]
           ],
           "sequential": [
            [
             0,
             "#0d0887"
            ],
            [
             0.1111111111111111,
             "#46039f"
            ],
            [
             0.2222222222222222,
             "#7201a8"
            ],
            [
             0.3333333333333333,
             "#9c179e"
            ],
            [
             0.4444444444444444,
             "#bd3786"
            ],
            [
             0.5555555555555556,
             "#d8576b"
            ],
            [
             0.6666666666666666,
             "#ed7953"
            ],
            [
             0.7777777777777778,
             "#fb9f3a"
            ],
            [
             0.8888888888888888,
             "#fdca26"
            ],
            [
             1,
             "#f0f921"
            ]
           ],
           "sequentialminus": [
            [
             0,
             "#0d0887"
            ],
            [
             0.1111111111111111,
             "#46039f"
            ],
            [
             0.2222222222222222,
             "#7201a8"
            ],
            [
             0.3333333333333333,
             "#9c179e"
            ],
            [
             0.4444444444444444,
             "#bd3786"
            ],
            [
             0.5555555555555556,
             "#d8576b"
            ],
            [
             0.6666666666666666,
             "#ed7953"
            ],
            [
             0.7777777777777778,
             "#fb9f3a"
            ],
            [
             0.8888888888888888,
             "#fdca26"
            ],
            [
             1,
             "#f0f921"
            ]
           ]
          },
          "colorway": [
           "#636efa",
           "#EF553B",
           "#00cc96",
           "#ab63fa",
           "#FFA15A",
           "#19d3f3",
           "#FF6692",
           "#B6E880",
           "#FF97FF",
           "#FECB52"
          ],
          "font": {
           "color": "#2a3f5f"
          },
          "geo": {
           "bgcolor": "white",
           "lakecolor": "white",
           "landcolor": "#E5ECF6",
           "showlakes": true,
           "showland": true,
           "subunitcolor": "white"
          },
          "hoverlabel": {
           "align": "left"
          },
          "hovermode": "closest",
          "mapbox": {
           "style": "light"
          },
          "paper_bgcolor": "white",
          "plot_bgcolor": "#E5ECF6",
          "polar": {
           "angularaxis": {
            "gridcolor": "white",
            "linecolor": "white",
            "ticks": ""
           },
           "bgcolor": "#E5ECF6",
           "radialaxis": {
            "gridcolor": "white",
            "linecolor": "white",
            "ticks": ""
           }
          },
          "scene": {
           "xaxis": {
            "backgroundcolor": "#E5ECF6",
            "gridcolor": "white",
            "gridwidth": 2,
            "linecolor": "white",
            "showbackground": true,
            "ticks": "",
            "zerolinecolor": "white"
           },
           "yaxis": {
            "backgroundcolor": "#E5ECF6",
            "gridcolor": "white",
            "gridwidth": 2,
            "linecolor": "white",
            "showbackground": true,
            "ticks": "",
            "zerolinecolor": "white"
           },
           "zaxis": {
            "backgroundcolor": "#E5ECF6",
            "gridcolor": "white",
            "gridwidth": 2,
            "linecolor": "white",
            "showbackground": true,
            "ticks": "",
            "zerolinecolor": "white"
           }
          },
          "shapedefaults": {
           "line": {
            "color": "#2a3f5f"
           }
          },
          "ternary": {
           "aaxis": {
            "gridcolor": "white",
            "linecolor": "white",
            "ticks": ""
           },
           "baxis": {
            "gridcolor": "white",
            "linecolor": "white",
            "ticks": ""
           },
           "bgcolor": "#E5ECF6",
           "caxis": {
            "gridcolor": "white",
            "linecolor": "white",
            "ticks": ""
           }
          },
          "title": {
           "x": 0.05
          },
          "xaxis": {
           "automargin": true,
           "gridcolor": "white",
           "linecolor": "white",
           "ticks": "",
           "title": {
            "standoff": 15
           },
           "zerolinecolor": "white",
           "zerolinewidth": 2
          },
          "yaxis": {
           "automargin": true,
           "gridcolor": "white",
           "linecolor": "white",
           "ticks": "",
           "title": {
            "standoff": 15
           },
           "zerolinecolor": "white",
           "zerolinewidth": 2
          }
         }
        },
        "xaxis": {
         "anchor": "y",
         "domain": [
          0,
          1
         ],
         "title": {
          "text": "Nombre de données"
         }
        },
        "yaxis": {
         "anchor": "x",
         "domain": [
          0,
          1
         ],
         "title": {
          "text": "Indicateurs"
         }
        }
       }
      }
     },
     "metadata": {},
     "output_type": "display_data"
    }
   ],
   "source": [
    "px.bar(x=OFDFiltFull.shape[0] -\n",
    "       OFDFiltFull.isna().sum().sort_values(ascending=False).values,\n",
    "       y=OFDFiltFull.isna().sum().sort_values(ascending=False).index,\n",
    "       labels=dict(x='Nombre de données', y='Indicateurs'),\n",
    "       height=1500)"
   ]
  },
  {
   "cell_type": "code",
   "execution_count": 19,
   "metadata": {},
   "outputs": [],
   "source": [
    "# sélection des colonnes qui finissent par _100g\n",
    "columns_100g = OFDFiltFull.loc[:, (OFDFiltFull.columns.str.endswith('_100g'))]\n"
   ]
  },
  {
   "cell_type": "code",
   "execution_count": 20,
   "metadata": {},
   "outputs": [],
   "source": [
    "columns_num = OFDFiltFull.select_dtypes('number')"
   ]
  },
  {
   "cell_type": "markdown",
   "metadata": {},
   "source": [
    "### Visualisation des distributions dans les colonnes numériques"
   ]
  },
  {
   "cell_type": "code",
   "execution_count": 21,
   "metadata": {},
   "outputs": [],
   "source": [
    "def dist_subplot(df, title):\n",
    "    if len(df.columns) == 2:\n",
    "        nrows=1\n",
    "    elif len(df.columns) == 5:\n",
    "        nrows=2\n",
    "    else:\n",
    "        nrows = int(np.ceil(np.sqrt(len(df.columns))))\n",
    "    ncols = int(np.ceil(np.sqrt(len(df.columns))))\n",
    "    fig = make_subplots(rows=nrows,\n",
    "                        cols=ncols,\n",
    "                        subplot_titles=df.columns,\n",
    "                        x_title='value',\n",
    "                        y_title='count')\n",
    "    col = 1\n",
    "    row = 1\n",
    "    for c in df.columns:\n",
    "        fig.add_trace(go.Histogram(x=df[c],\n",
    "                                   name=df[c].name,\n",
    "                                   nbinsx=100,\n",
    "                                   showlegend=False,\n",
    "                                   marker=dict(color='blue')),\n",
    "                      row=row,\n",
    "                      col=col)\n",
    "        if col < ncols:\n",
    "            row = row\n",
    "            col += 1\n",
    "        else:\n",
    "            row += 1\n",
    "            col = 1\n",
    "    fig.update_layout(height=nrows * 200, width=ncols * 300, title=title)\n",
    "    return (fig.show(renderer='browser'))\n",
    "\n",
    "\n",
    "dist_subplot(columns_num,'Distribution dans les colonnes numériques')"
   ]
  },
  {
   "cell_type": "markdown",
   "metadata": {},
   "source": [
    "Il doit il y avoir des valeurs extrèmes pour la quantité servie, l'empreinte carbone et l'energie car on observe qu'une seule barre et des valeurs très importantes où le nombre de valeurs est négligeable. Nous allons donc écarter ces valeurs lorsqu'elles sont en dehors du quartile qui contient 99% des valeurs. "
   ]
  },
  {
   "cell_type": "markdown",
   "metadata": {},
   "source": [
    "### Nettoyage des outliers"
   ]
  },
  {
   "cell_type": "code",
   "execution_count": 22,
   "metadata": {},
   "outputs": [
    {
     "data": {
      "text/plain": [
       "Index(['serving_quantity', 'carbon-footprint-from-meat-or-fish_100g',\n",
       "       'energy-kj_100g', 'energy-kcal_100g', 'energy_100g'],\n",
       "      dtype='object')"
      ]
     },
     "execution_count": 22,
     "metadata": {},
     "output_type": "execute_result"
    }
   ],
   "source": [
    "# calcul du quartile dans lequel 99% des valeurs sont contenus\n",
    "q3 = OFDFiltFull.select_dtypes(\n",
    "    'number').loc[:,\n",
    "                  OFDFiltFull.select_dtypes('number').columns.str.\n",
    "                  contains('energy|serving|carbon')].quantile(.99)\n",
    "q3.index"
   ]
  },
  {
   "cell_type": "code",
   "execution_count": 23,
   "metadata": {},
   "outputs": [],
   "source": [
    "# filtre des valeurs au dessus du quartile .99\n",
    "for x in q3.index:\n",
    "    OFDFiltFull.loc[:, (OFDFiltFull.columns == x)] = OFDFiltFull.loc[:, (\n",
    "        OFDFiltFull.columns == x)].where(\n",
    "            OFDFiltFull.loc[:, (OFDFiltFull.columns == x)] < q3[x])\n",
    "\n",
    "dist_subplot(\n",
    "    OFDFiltFull.select_dtypes(\n",
    "        'number').loc[:,\n",
    "                      OFDFiltFull.select_dtypes('number').columns.str.\n",
    "                      contains('energy|serving|carbon')], 'Distribution dans les colonnes quantité, empreinte carbone et energies')\n"
   ]
  },
  {
   "cell_type": "code",
   "execution_count": 24,
   "metadata": {},
   "outputs": [],
   "source": [
    "if write_data is True:\n",
    "    OFDFiltFull.to_csv('FR.openfoodfacts.org.products.csv', index=False)"
   ]
  }
 ],
 "metadata": {
  "interpreter": {
   "hash": "17bd4ad61651a9ccc74bf34314f3045ca09ddfd37ac42be5e7eca5e3d388e250"
  },
  "kernelspec": {
   "display_name": "Python 3.9.7 64-bit ('PyDS': venv)",
   "name": "python3"
  },
  "language_info": {
   "codemirror_mode": {
    "name": "ipython",
    "version": 3
   },
   "file_extension": ".py",
   "mimetype": "text/x-python",
   "name": "python",
   "nbconvert_exporter": "python",
   "pygments_lexer": "ipython3",
   "version": "3.9.7"
  }
 },
 "nbformat": 4,
 "nbformat_minor": 2
}
